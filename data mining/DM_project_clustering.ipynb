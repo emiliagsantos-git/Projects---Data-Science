{
 "cells": [
  {
   "cell_type": "code",
   "execution_count": 2,
   "id": "d9441f6c-0f9b-41e5-849d-91d6727bf021",
   "metadata": {
    "tags": []
   },
   "outputs": [
    {
     "name": "stdout",
     "output_type": "stream",
     "text": [
      "Requirement already satisfied: kmodes in c:\\users\\emili\\anaconda3\\lib\\site-packages (0.12.2)\n",
      "Requirement already satisfied: numpy>=1.10.4 in c:\\users\\emili\\anaconda3\\lib\\site-packages (from kmodes) (1.23.5)\n",
      "Requirement already satisfied: scikit-learn>=0.22.0 in c:\\users\\emili\\anaconda3\\lib\\site-packages (from kmodes) (1.3.0)\n",
      "Requirement already satisfied: scipy>=0.13.3 in c:\\users\\emili\\anaconda3\\lib\\site-packages (from kmodes) (1.10.1)\n",
      "Requirement already satisfied: joblib>=0.11 in c:\\users\\emili\\anaconda3\\lib\\site-packages (from kmodes) (1.2.0)\n",
      "Requirement already satisfied: threadpoolctl>=2.0.0 in c:\\users\\emili\\anaconda3\\lib\\site-packages (from scikit-learn>=0.22.0->kmodes) (2.2.0)\n"
     ]
    }
   ],
   "source": [
    "import pandas as pd\n",
    "import numpy as np\n",
    "import os\n",
    "\n",
    "#Data Visualization\n",
    "import matplotlib.pyplot as plt\n",
    "import seaborn as sns\n",
    "from math import ceil\n",
    "\n",
    "#To get plots with better resolution \n",
    "%config InlineBackend.figure_format = 'retina'\n",
    "\n",
    "#K-Means Clustering\n",
    "from os.path import join\n",
    "import matplotlib.cm as cm\n",
    "from sklearn.metrics import silhouette_score, silhouette_samples\n",
    "from sklearn.cluster import KMeans\n",
    "\n",
    "sns.set()\n",
    "\n",
    "#K-Mode Clustering\n",
    "!pip install kmodes\n",
    "from kmodes.kmodes import KModes\n",
    "\n",
    "#Hierarchical Clustering\n",
    "from scipy.cluster.hierarchy import linkage, dendrogram, fcluster"
   ]
  },
  {
   "cell_type": "markdown",
   "id": "a3f062a8-720a-454c-972b-f0e125570941",
   "metadata": {},
   "source": [
    "## Import preprocessed data"
   ]
  },
  {
   "cell_type": "code",
   "execution_count": 7,
   "id": "44833bd4-a225-4092-a4bb-993039a1ba5d",
   "metadata": {
    "tags": []
   },
   "outputs": [],
   "source": [
    "df = pd.read_csv(join('..', 'Projeto DM', 'DM_project_preprocessed.csv'))"
   ]
  },
  {
   "cell_type": "code",
   "execution_count": 9,
   "id": "18c9398f-5a20-46be-9b34-98623158adfb",
   "metadata": {
    "tags": []
   },
   "outputs": [
    {
     "name": "stdout",
     "output_type": "stream",
     "text": [
      "<class 'pandas.core.frame.DataFrame'>\n",
      "RangeIndex: 14773 entries, 0 to 14772\n",
      "Data columns (total 28 columns):\n",
      " #   Column                      Non-Null Count  Dtype  \n",
      "---  ------                      --------------  -----  \n",
      " 0   Age                         14773 non-null  float64\n",
      " 1   Gender                      14773 non-null  int64  \n",
      " 2   Income                      14773 non-null  float64\n",
      " 3   DaysWithoutFrequency        14773 non-null  float64\n",
      " 4   LifetimeValue               14773 non-null  float64\n",
      " 5   UseByTime                   14773 non-null  int64  \n",
      " 6   AthleticsActivities         14773 non-null  int64  \n",
      " 7   WaterActivities             14773 non-null  int64  \n",
      " 8   FitnessActivities           14773 non-null  int64  \n",
      " 9   TeamActivities              14773 non-null  int64  \n",
      " 10  RacketActivities            14773 non-null  int64  \n",
      " 11  CombatActivities            14773 non-null  int64  \n",
      " 12  SpecialActivities           14773 non-null  int64  \n",
      " 13  OtherActivities             14773 non-null  int64  \n",
      " 14  NumberOfFrequencies         14773 non-null  float64\n",
      " 15  AttendedClasses             14773 non-null  float64\n",
      " 16  AllowedWeeklyVisitsBySLA    14773 non-null  float64\n",
      " 17  AllowedNumberOfVisitsBySLA  14773 non-null  float64\n",
      " 18  RealNumberOfVisits          14773 non-null  float64\n",
      " 19  NumberOfRenewals            14773 non-null  float64\n",
      " 20  HasReferences               14773 non-null  int64  \n",
      " 21  NumberOfReferences          14773 non-null  float64\n",
      " 22  Dropout                     14773 non-null  int64  \n",
      " 23  AgeGroups                   14773 non-null  int64  \n",
      " 24  TotalTimeOfEnrollment       14773 non-null  float64\n",
      " 25  TimeSinceLastVisit          14773 non-null  float64\n",
      " 26  RecentActivityPeriod        14773 non-null  float64\n",
      " 27  AverageVisitFrequency       14773 non-null  float64\n",
      "dtypes: float64(15), int64(13)\n",
      "memory usage: 3.2 MB\n"
     ]
    }
   ],
   "source": [
    "#Check info again \n",
    "df.info()"
   ]
  },
  {
   "cell_type": "code",
   "execution_count": 11,
   "id": "c9fdb4e7-eee9-49a8-b7c2-70f44c84a461",
   "metadata": {
    "tags": []
   },
   "outputs": [
    {
     "data": {
      "text/plain": [
       "Index(['Age', 'Gender', 'Income', 'DaysWithoutFrequency', 'LifetimeValue',\n",
       "       'UseByTime', 'AthleticsActivities', 'WaterActivities',\n",
       "       'FitnessActivities', 'TeamActivities', 'RacketActivities',\n",
       "       'CombatActivities', 'SpecialActivities', 'OtherActivities',\n",
       "       'NumberOfFrequencies', 'AttendedClasses', 'AllowedWeeklyVisitsBySLA',\n",
       "       'AllowedNumberOfVisitsBySLA', 'RealNumberOfVisits', 'NumberOfRenewals',\n",
       "       'HasReferences', 'NumberOfReferences', 'Dropout', 'AgeGroups',\n",
       "       'TotalTimeOfEnrollment', 'TimeSinceLastVisit', 'RecentActivityPeriod',\n",
       "       'AverageVisitFrequency'],\n",
       "      dtype='object')"
      ]
     },
     "execution_count": 11,
     "metadata": {},
     "output_type": "execute_result"
    }
   ],
   "source": [
    "df.columns"
   ]
  },
  {
   "cell_type": "code",
   "execution_count": 10,
   "id": "300313b3-9a3c-4c08-86a7-ec179fb3196e",
   "metadata": {
    "tags": []
   },
   "outputs": [
    {
     "ename": "NameError",
     "evalue": "name 'non_metric_features' is not defined",
     "output_type": "error",
     "traceback": [
      "\u001b[1;31m---------------------------------------------------------------------------\u001b[0m",
      "\u001b[1;31mNameError\u001b[0m                                 Traceback (most recent call last)",
      "Cell \u001b[1;32mIn[10], line 2\u001b[0m\n\u001b[0;32m      1\u001b[0m \u001b[38;5;66;03m#Check metric and non metric features again\u001b[39;00m\n\u001b[1;32m----> 2\u001b[0m \u001b[38;5;28mprint\u001b[39m(\u001b[38;5;124m\"\u001b[39m\u001b[38;5;124mThese are the non metric features:\u001b[39m\u001b[38;5;124m\"\u001b[39m, non_metric_features)\n\u001b[0;32m      3\u001b[0m \u001b[38;5;28mprint\u001b[39m(\u001b[38;5;124m\"\u001b[39m\u001b[38;5;124mThese are the metric features:\u001b[39m\u001b[38;5;124m\"\u001b[39m, metric_features)\n",
      "\u001b[1;31mNameError\u001b[0m: name 'non_metric_features' is not defined"
     ]
    }
   ],
   "source": [
    "#Check metric and non metric features again\n",
    "print(\"These are the non metric features:\", non_metric_features)\n",
    "print(\"These are the metric features:\", metric_features)"
   ]
  },
  {
   "cell_type": "markdown",
   "id": "43792edb-85ed-4800-a419-d92552f18811",
   "metadata": {
    "tags": []
   },
   "source": [
    "# 4. Clustering"
   ]
  },
  {
   "cell_type": "markdown",
   "id": "549a5b98-00aa-4eab-a987-1176cff8555e",
   "metadata": {
    "tags": []
   },
   "source": [
    "## 4.1. K-Means Clustering"
   ]
  },
  {
   "cell_type": "markdown",
   "id": "b27b803c-401d-44eb-9b8f-41ea15867592",
   "metadata": {},
   "source": [
    "##### For metric features:"
   ]
  },
  {
   "cell_type": "code",
   "execution_count": 83,
   "id": "4b592d26-c264-4fc2-a160-550c3cb7db4e",
   "metadata": {
    "tags": []
   },
   "outputs": [],
   "source": [
    "kmclust = KMeans(n_clusters=8,  #default, see scikit learn\n",
    "                 init='random',      #in a random way\n",
    "                 n_init=10,       #pick 10 possible sets of 8 centroids\n",
    "                 random_state=1)   #whatever the number we want, the random 8 points, will always be the same random 8 points - pseudo random\n",
    "                                       #will be a different set of 8, if we don't use the random  state"
   ]
  },
  {
   "cell_type": "code",
   "execution_count": 84,
   "id": "dfe5aba7-a144-4a8f-8c7d-abcc54140348",
   "metadata": {
    "tags": []
   },
   "outputs": [
    {
     "data": {
      "text/html": [
       "<style>#sk-container-id-1 {color: black;}#sk-container-id-1 pre{padding: 0;}#sk-container-id-1 div.sk-toggleable {background-color: white;}#sk-container-id-1 label.sk-toggleable__label {cursor: pointer;display: block;width: 100%;margin-bottom: 0;padding: 0.3em;box-sizing: border-box;text-align: center;}#sk-container-id-1 label.sk-toggleable__label-arrow:before {content: \"▸\";float: left;margin-right: 0.25em;color: #696969;}#sk-container-id-1 label.sk-toggleable__label-arrow:hover:before {color: black;}#sk-container-id-1 div.sk-estimator:hover label.sk-toggleable__label-arrow:before {color: black;}#sk-container-id-1 div.sk-toggleable__content {max-height: 0;max-width: 0;overflow: hidden;text-align: left;background-color: #f0f8ff;}#sk-container-id-1 div.sk-toggleable__content pre {margin: 0.2em;color: black;border-radius: 0.25em;background-color: #f0f8ff;}#sk-container-id-1 input.sk-toggleable__control:checked~div.sk-toggleable__content {max-height: 200px;max-width: 100%;overflow: auto;}#sk-container-id-1 input.sk-toggleable__control:checked~label.sk-toggleable__label-arrow:before {content: \"▾\";}#sk-container-id-1 div.sk-estimator input.sk-toggleable__control:checked~label.sk-toggleable__label {background-color: #d4ebff;}#sk-container-id-1 div.sk-label input.sk-toggleable__control:checked~label.sk-toggleable__label {background-color: #d4ebff;}#sk-container-id-1 input.sk-hidden--visually {border: 0;clip: rect(1px 1px 1px 1px);clip: rect(1px, 1px, 1px, 1px);height: 1px;margin: -1px;overflow: hidden;padding: 0;position: absolute;width: 1px;}#sk-container-id-1 div.sk-estimator {font-family: monospace;background-color: #f0f8ff;border: 1px dotted black;border-radius: 0.25em;box-sizing: border-box;margin-bottom: 0.5em;}#sk-container-id-1 div.sk-estimator:hover {background-color: #d4ebff;}#sk-container-id-1 div.sk-parallel-item::after {content: \"\";width: 100%;border-bottom: 1px solid gray;flex-grow: 1;}#sk-container-id-1 div.sk-label:hover label.sk-toggleable__label {background-color: #d4ebff;}#sk-container-id-1 div.sk-serial::before {content: \"\";position: absolute;border-left: 1px solid gray;box-sizing: border-box;top: 0;bottom: 0;left: 50%;z-index: 0;}#sk-container-id-1 div.sk-serial {display: flex;flex-direction: column;align-items: center;background-color: white;padding-right: 0.2em;padding-left: 0.2em;position: relative;}#sk-container-id-1 div.sk-item {position: relative;z-index: 1;}#sk-container-id-1 div.sk-parallel {display: flex;align-items: stretch;justify-content: center;background-color: white;position: relative;}#sk-container-id-1 div.sk-item::before, #sk-container-id-1 div.sk-parallel-item::before {content: \"\";position: absolute;border-left: 1px solid gray;box-sizing: border-box;top: 0;bottom: 0;left: 50%;z-index: -1;}#sk-container-id-1 div.sk-parallel-item {display: flex;flex-direction: column;z-index: 1;position: relative;background-color: white;}#sk-container-id-1 div.sk-parallel-item:first-child::after {align-self: flex-end;width: 50%;}#sk-container-id-1 div.sk-parallel-item:last-child::after {align-self: flex-start;width: 50%;}#sk-container-id-1 div.sk-parallel-item:only-child::after {width: 0;}#sk-container-id-1 div.sk-dashed-wrapped {border: 1px dashed gray;margin: 0 0.4em 0.5em 0.4em;box-sizing: border-box;padding-bottom: 0.4em;background-color: white;}#sk-container-id-1 div.sk-label label {font-family: monospace;font-weight: bold;display: inline-block;line-height: 1.2em;}#sk-container-id-1 div.sk-label-container {text-align: center;}#sk-container-id-1 div.sk-container {/* jupyter's `normalize.less` sets `[hidden] { display: none; }` but bootstrap.min.css set `[hidden] { display: none !important; }` so we also need the `!important` here to be able to override the default hidden behavior on the sphinx rendered scikit-learn.org. See: https://github.com/scikit-learn/scikit-learn/issues/21755 */display: inline-block !important;position: relative;}#sk-container-id-1 div.sk-text-repr-fallback {display: none;}</style><div id=\"sk-container-id-1\" class=\"sk-top-container\"><div class=\"sk-text-repr-fallback\"><pre>KMeans(init=&#x27;random&#x27;, n_init=10, random_state=1)</pre><b>In a Jupyter environment, please rerun this cell to show the HTML representation or trust the notebook. <br />On GitHub, the HTML representation is unable to render, please try loading this page with nbviewer.org.</b></div><div class=\"sk-container\" hidden><div class=\"sk-item\"><div class=\"sk-estimator sk-toggleable\"><input class=\"sk-toggleable__control sk-hidden--visually\" id=\"sk-estimator-id-1\" type=\"checkbox\" checked><label for=\"sk-estimator-id-1\" class=\"sk-toggleable__label sk-toggleable__label-arrow\">KMeans</label><div class=\"sk-toggleable__content\"><pre>KMeans(init=&#x27;random&#x27;, n_init=10, random_state=1)</pre></div></div></div></div></div>"
      ],
      "text/plain": [
       "KMeans(init='random', n_init=10, random_state=1)"
      ]
     },
     "execution_count": 84,
     "metadata": {},
     "output_type": "execute_result"
    }
   ],
   "source": [
    "# the fit method, only on metric\n",
    "kmclust.fit(df3_scaled[metric_features])"
   ]
  },
  {
   "cell_type": "code",
   "execution_count": 85,
   "id": "d6cbe1b3-5c71-4609-aa81-6269730bbb69",
   "metadata": {
    "tags": []
   },
   "outputs": [
    {
     "data": {
      "text/html": [
       "<div>\n",
       "<style scoped>\n",
       "    .dataframe tbody tr th:only-of-type {\n",
       "        vertical-align: middle;\n",
       "    }\n",
       "\n",
       "    .dataframe tbody tr th {\n",
       "        vertical-align: top;\n",
       "    }\n",
       "\n",
       "    .dataframe thead th {\n",
       "        text-align: right;\n",
       "    }\n",
       "</style>\n",
       "<table border=\"1\" class=\"dataframe\">\n",
       "  <thead>\n",
       "    <tr style=\"text-align: right;\">\n",
       "      <th></th>\n",
       "      <th>0</th>\n",
       "      <th>1</th>\n",
       "      <th>2</th>\n",
       "      <th>3</th>\n",
       "      <th>4</th>\n",
       "      <th>5</th>\n",
       "      <th>6</th>\n",
       "      <th>7</th>\n",
       "    </tr>\n",
       "  </thead>\n",
       "  <tbody>\n",
       "    <tr>\n",
       "      <th>0</th>\n",
       "      <td>1.286737</td>\n",
       "      <td>1.148532</td>\n",
       "      <td>0.651263</td>\n",
       "      <td>0.978291</td>\n",
       "      <td>0.938763</td>\n",
       "      <td>1.363152</td>\n",
       "      <td>0.928125</td>\n",
       "      <td>0.373414</td>\n",
       "    </tr>\n",
       "    <tr>\n",
       "      <th>1</th>\n",
       "      <td>0.319775</td>\n",
       "      <td>0.907186</td>\n",
       "      <td>1.237530</td>\n",
       "      <td>1.151410</td>\n",
       "      <td>0.944510</td>\n",
       "      <td>0.978562</td>\n",
       "      <td>1.016289</td>\n",
       "      <td>1.222489</td>\n",
       "    </tr>\n",
       "    <tr>\n",
       "      <th>2</th>\n",
       "      <td>0.983841</td>\n",
       "      <td>0.926185</td>\n",
       "      <td>0.386932</td>\n",
       "      <td>0.881299</td>\n",
       "      <td>0.572961</td>\n",
       "      <td>1.221782</td>\n",
       "      <td>0.339728</td>\n",
       "      <td>0.700954</td>\n",
       "    </tr>\n",
       "    <tr>\n",
       "      <th>3</th>\n",
       "      <td>0.571345</td>\n",
       "      <td>0.510141</td>\n",
       "      <td>1.017929</td>\n",
       "      <td>1.223708</td>\n",
       "      <td>0.987507</td>\n",
       "      <td>0.895553</td>\n",
       "      <td>1.167576</td>\n",
       "      <td>1.229206</td>\n",
       "    </tr>\n",
       "    <tr>\n",
       "      <th>4</th>\n",
       "      <td>1.088624</td>\n",
       "      <td>1.082562</td>\n",
       "      <td>0.692001</td>\n",
       "      <td>0.386919</td>\n",
       "      <td>0.774845</td>\n",
       "      <td>1.059232</td>\n",
       "      <td>0.654209</td>\n",
       "      <td>0.601550</td>\n",
       "    </tr>\n",
       "    <tr>\n",
       "      <th>...</th>\n",
       "      <td>...</td>\n",
       "      <td>...</td>\n",
       "      <td>...</td>\n",
       "      <td>...</td>\n",
       "      <td>...</td>\n",
       "      <td>...</td>\n",
       "      <td>...</td>\n",
       "      <td>...</td>\n",
       "    </tr>\n",
       "    <tr>\n",
       "      <th>14768</th>\n",
       "      <td>1.004539</td>\n",
       "      <td>0.606155</td>\n",
       "      <td>0.849637</td>\n",
       "      <td>0.899645</td>\n",
       "      <td>1.123473</td>\n",
       "      <td>0.446698</td>\n",
       "      <td>1.106452</td>\n",
       "      <td>1.013963</td>\n",
       "    </tr>\n",
       "    <tr>\n",
       "      <th>14769</th>\n",
       "      <td>0.981050</td>\n",
       "      <td>1.067347</td>\n",
       "      <td>0.608460</td>\n",
       "      <td>0.863953</td>\n",
       "      <td>0.567120</td>\n",
       "      <td>1.289404</td>\n",
       "      <td>0.257613</td>\n",
       "      <td>0.707189</td>\n",
       "    </tr>\n",
       "    <tr>\n",
       "      <th>14770</th>\n",
       "      <td>0.994115</td>\n",
       "      <td>0.943339</td>\n",
       "      <td>0.437196</td>\n",
       "      <td>0.910404</td>\n",
       "      <td>0.596746</td>\n",
       "      <td>1.236931</td>\n",
       "      <td>0.361339</td>\n",
       "      <td>0.759596</td>\n",
       "    </tr>\n",
       "    <tr>\n",
       "      <th>14771</th>\n",
       "      <td>1.033813</td>\n",
       "      <td>0.838678</td>\n",
       "      <td>1.002481</td>\n",
       "      <td>1.062080</td>\n",
       "      <td>1.212673</td>\n",
       "      <td>0.829528</td>\n",
       "      <td>1.203376</td>\n",
       "      <td>0.779814</td>\n",
       "    </tr>\n",
       "    <tr>\n",
       "      <th>14772</th>\n",
       "      <td>1.305868</td>\n",
       "      <td>1.171231</td>\n",
       "      <td>0.873852</td>\n",
       "      <td>0.322307</td>\n",
       "      <td>1.053552</td>\n",
       "      <td>0.991974</td>\n",
       "      <td>1.032697</td>\n",
       "      <td>0.793605</td>\n",
       "    </tr>\n",
       "  </tbody>\n",
       "</table>\n",
       "<p>14773 rows × 8 columns</p>\n",
       "</div>"
      ],
      "text/plain": [
       "              0         1         2         3         4         5         6  \\\n",
       "0      1.286737  1.148532  0.651263  0.978291  0.938763  1.363152  0.928125   \n",
       "1      0.319775  0.907186  1.237530  1.151410  0.944510  0.978562  1.016289   \n",
       "2      0.983841  0.926185  0.386932  0.881299  0.572961  1.221782  0.339728   \n",
       "3      0.571345  0.510141  1.017929  1.223708  0.987507  0.895553  1.167576   \n",
       "4      1.088624  1.082562  0.692001  0.386919  0.774845  1.059232  0.654209   \n",
       "...         ...       ...       ...       ...       ...       ...       ...   \n",
       "14768  1.004539  0.606155  0.849637  0.899645  1.123473  0.446698  1.106452   \n",
       "14769  0.981050  1.067347  0.608460  0.863953  0.567120  1.289404  0.257613   \n",
       "14770  0.994115  0.943339  0.437196  0.910404  0.596746  1.236931  0.361339   \n",
       "14771  1.033813  0.838678  1.002481  1.062080  1.212673  0.829528  1.203376   \n",
       "14772  1.305868  1.171231  0.873852  0.322307  1.053552  0.991974  1.032697   \n",
       "\n",
       "              7  \n",
       "0      0.373414  \n",
       "1      1.222489  \n",
       "2      0.700954  \n",
       "3      1.229206  \n",
       "4      0.601550  \n",
       "...         ...  \n",
       "14768  1.013963  \n",
       "14769  0.707189  \n",
       "14770  0.759596  \n",
       "14771  0.779814  \n",
       "14772  0.793605  \n",
       "\n",
       "[14773 rows x 8 columns]"
      ]
     },
     "execution_count": 85,
     "metadata": {},
     "output_type": "execute_result"
    }
   ],
   "source": [
    "# the transform method\n",
    "pd.DataFrame(kmclust.transform(df3_scaled[metric_features]))"
   ]
  },
  {
   "cell_type": "markdown",
   "id": "bc10cdcd-1504-423a-95ac-e2095ce1f93b",
   "metadata": {},
   "source": [
    "##### Improve the initialization step"
   ]
  },
  {
   "cell_type": "code",
   "execution_count": 86,
   "id": "1ecb2c63-a32f-4e9a-89d3-80912c54fc0c",
   "metadata": {
    "tags": []
   },
   "outputs": [
    {
     "data": {
      "text/html": [
       "<style>#sk-container-id-2 {color: black;}#sk-container-id-2 pre{padding: 0;}#sk-container-id-2 div.sk-toggleable {background-color: white;}#sk-container-id-2 label.sk-toggleable__label {cursor: pointer;display: block;width: 100%;margin-bottom: 0;padding: 0.3em;box-sizing: border-box;text-align: center;}#sk-container-id-2 label.sk-toggleable__label-arrow:before {content: \"▸\";float: left;margin-right: 0.25em;color: #696969;}#sk-container-id-2 label.sk-toggleable__label-arrow:hover:before {color: black;}#sk-container-id-2 div.sk-estimator:hover label.sk-toggleable__label-arrow:before {color: black;}#sk-container-id-2 div.sk-toggleable__content {max-height: 0;max-width: 0;overflow: hidden;text-align: left;background-color: #f0f8ff;}#sk-container-id-2 div.sk-toggleable__content pre {margin: 0.2em;color: black;border-radius: 0.25em;background-color: #f0f8ff;}#sk-container-id-2 input.sk-toggleable__control:checked~div.sk-toggleable__content {max-height: 200px;max-width: 100%;overflow: auto;}#sk-container-id-2 input.sk-toggleable__control:checked~label.sk-toggleable__label-arrow:before {content: \"▾\";}#sk-container-id-2 div.sk-estimator input.sk-toggleable__control:checked~label.sk-toggleable__label {background-color: #d4ebff;}#sk-container-id-2 div.sk-label input.sk-toggleable__control:checked~label.sk-toggleable__label {background-color: #d4ebff;}#sk-container-id-2 input.sk-hidden--visually {border: 0;clip: rect(1px 1px 1px 1px);clip: rect(1px, 1px, 1px, 1px);height: 1px;margin: -1px;overflow: hidden;padding: 0;position: absolute;width: 1px;}#sk-container-id-2 div.sk-estimator {font-family: monospace;background-color: #f0f8ff;border: 1px dotted black;border-radius: 0.25em;box-sizing: border-box;margin-bottom: 0.5em;}#sk-container-id-2 div.sk-estimator:hover {background-color: #d4ebff;}#sk-container-id-2 div.sk-parallel-item::after {content: \"\";width: 100%;border-bottom: 1px solid gray;flex-grow: 1;}#sk-container-id-2 div.sk-label:hover label.sk-toggleable__label {background-color: #d4ebff;}#sk-container-id-2 div.sk-serial::before {content: \"\";position: absolute;border-left: 1px solid gray;box-sizing: border-box;top: 0;bottom: 0;left: 50%;z-index: 0;}#sk-container-id-2 div.sk-serial {display: flex;flex-direction: column;align-items: center;background-color: white;padding-right: 0.2em;padding-left: 0.2em;position: relative;}#sk-container-id-2 div.sk-item {position: relative;z-index: 1;}#sk-container-id-2 div.sk-parallel {display: flex;align-items: stretch;justify-content: center;background-color: white;position: relative;}#sk-container-id-2 div.sk-item::before, #sk-container-id-2 div.sk-parallel-item::before {content: \"\";position: absolute;border-left: 1px solid gray;box-sizing: border-box;top: 0;bottom: 0;left: 50%;z-index: -1;}#sk-container-id-2 div.sk-parallel-item {display: flex;flex-direction: column;z-index: 1;position: relative;background-color: white;}#sk-container-id-2 div.sk-parallel-item:first-child::after {align-self: flex-end;width: 50%;}#sk-container-id-2 div.sk-parallel-item:last-child::after {align-self: flex-start;width: 50%;}#sk-container-id-2 div.sk-parallel-item:only-child::after {width: 0;}#sk-container-id-2 div.sk-dashed-wrapped {border: 1px dashed gray;margin: 0 0.4em 0.5em 0.4em;box-sizing: border-box;padding-bottom: 0.4em;background-color: white;}#sk-container-id-2 div.sk-label label {font-family: monospace;font-weight: bold;display: inline-block;line-height: 1.2em;}#sk-container-id-2 div.sk-label-container {text-align: center;}#sk-container-id-2 div.sk-container {/* jupyter's `normalize.less` sets `[hidden] { display: none; }` but bootstrap.min.css set `[hidden] { display: none !important; }` so we also need the `!important` here to be able to override the default hidden behavior on the sphinx rendered scikit-learn.org. See: https://github.com/scikit-learn/scikit-learn/issues/21755 */display: inline-block !important;position: relative;}#sk-container-id-2 div.sk-text-repr-fallback {display: none;}</style><div id=\"sk-container-id-2\" class=\"sk-top-container\"><div class=\"sk-text-repr-fallback\"><pre>KMeans(n_init=15, random_state=1)</pre><b>In a Jupyter environment, please rerun this cell to show the HTML representation or trust the notebook. <br />On GitHub, the HTML representation is unable to render, please try loading this page with nbviewer.org.</b></div><div class=\"sk-container\" hidden><div class=\"sk-item\"><div class=\"sk-estimator sk-toggleable\"><input class=\"sk-toggleable__control sk-hidden--visually\" id=\"sk-estimator-id-2\" type=\"checkbox\" checked><label for=\"sk-estimator-id-2\" class=\"sk-toggleable__label sk-toggleable__label-arrow\">KMeans</label><div class=\"sk-toggleable__content\"><pre>KMeans(n_init=15, random_state=1)</pre></div></div></div></div></div>"
      ],
      "text/plain": [
       "KMeans(n_init=15, random_state=1)"
      ]
     },
     "execution_count": 86,
     "metadata": {},
     "output_type": "execute_result"
    }
   ],
   "source": [
    "# Better initialization method and provide more n_init\n",
    "kmclust = KMeans(n_clusters=8, \n",
    "                 init='k-means++',  \n",
    "                 n_init=15, \n",
    "                 random_state=1)\n",
    "\n",
    "kmclust.fit(df3_scaled[metric_features])\n",
    "\n",
    "#init='k-means++' initializes the centroids to be (generally) distant from each other, leading to probably better results than random initialization. n_init=K allows to initialize KMeans K times and pick the best clustering in terms of Inertia"
   ]
  },
  {
   "cell_type": "code",
   "execution_count": 87,
   "id": "4c50d540-efd6-4c8c-8958-9e68c0b41546",
   "metadata": {
    "tags": []
   },
   "outputs": [
    {
     "data": {
      "text/plain": [
       "array([4, 2, 0, ..., 0, 4, 6])"
      ]
     },
     "execution_count": 87,
     "metadata": {},
     "output_type": "execute_result"
    }
   ],
   "source": [
    "kmclust.predict(df3_scaled[metric_features])\n",
    "\n",
    "#row 0 is cluster nr 4, row 1 is cluster nr 2,..."
   ]
  },
  {
   "cell_type": "markdown",
   "id": "843ce97a-157f-47ec-b133-10e9bb3edde6",
   "metadata": {},
   "source": [
    "##### Defining the number of clusters"
   ]
  },
  {
   "cell_type": "code",
   "execution_count": 88,
   "id": "6f1cb936-d375-4574-a13d-ff06c9b1f5bd",
   "metadata": {
    "tags": []
   },
   "outputs": [],
   "source": [
    "range_clusters = range(1, 11)\n",
    "\n",
    "inertia = []\n",
    "for n_clus in range_clusters:  # iterate over desired ncluster range\n",
    "    kmclust = KMeans(n_clusters=n_clus, \n",
    "                     init='k-means++', \n",
    "                     n_init=15, \n",
    "                     random_state=1)\n",
    "    kmclust.fit(df3_scaled[metric_features])\n",
    "    inertia.append(kmclust.inertia_)  # save the inertia of the given cluster solution"
   ]
  },
  {
   "cell_type": "code",
   "execution_count": 89,
   "id": "f0a320f7-3bf1-4ce9-91cb-356abbec3936",
   "metadata": {
    "tags": []
   },
   "outputs": [
    {
     "data": {
      "image/png": "[encoded data removed]",
      "text/plain": [
       "<Figure size 900x500 with 1 Axes>"
      ]
     },
     "metadata": {
      "image/png": {
       "height": 476,
       "width": 785
      }
     },
     "output_type": "display_data"
    }
   ],
   "source": [
    "# The inertia plot\n",
    "plt.figure(figsize=(9,5))\n",
    "plt.plot(range_clusters, inertia)\n",
    "plt.ylabel(\"Inertia: SSw\")\n",
    "plt.xlabel(\"Number of clusters\")\n",
    "plt.title(\"Inertia plot over clusters\", size=15)\n",
    "plt.show()\n",
    "\n",
    "#the lower the inertia the better, the smallest SSw of the centroids - but is too much clusters \n",
    "#identify the elbow - 6"
   ]
  },
  {
   "cell_type": "code",
   "execution_count": null,
   "id": "8aa0ef4e-e465-4535-a981-009874c7561d",
   "metadata": {
    "tags": []
   },
   "outputs": [
    {
     "name": "stdout",
     "output_type": "stream",
     "text": [
      "For n_clusters = 2, the average silhouette_score is : 0.34323235257961193\n"
     ]
    }
   ],
   "source": [
    "# Storing average silhouette metric\n",
    "avg_silhouette = []\n",
    "for nclus in range_clusters:\n",
    "    # Skip nclus == 1 - WE NEED AT LEAST 2 CLUSTERS\n",
    "    if nclus == 1:  \n",
    "        continue\n",
    "    \n",
    "    # Create a figure\n",
    "    fig = plt.figure(figsize=(13, 7))\n",
    "\n",
    "    # Initialize the KMeans object with n_clusters value and a random generator\n",
    "    # seed of 10 for reproducibility.\n",
    "    kmclust = KMeans(n_clusters=nclus, init='k-means++', n_init=15, random_state=1)\n",
    "    cluster_labels = kmclust.fit_predict(df3_scaled[metric_features])\n",
    "\n",
    "    # The silhouette_score gives the average value for all the samples.\n",
    "    # This gives a perspective into the density and separation of the formed clusters\n",
    "    silhouette_avg = silhouette_score(df3_scaled[metric_features], cluster_labels)\n",
    "    avg_silhouette.append(silhouette_avg)\n",
    "    print(f\"For n_clusters = {nclus}, the average silhouette_score is : {silhouette_avg}\")\n",
    "\n",
    "    # Compute the silhouette scores for each sample\n",
    "    sample_silhouette_values = silhouette_samples(df3_scaled[metric_features], cluster_labels)\n",
    "\n",
    "    y_lower = 10\n",
    "    for i in range(nclus):\n",
    "        # Aggregate the silhouette scores for samples belonging to cluster i, and sort them\n",
    "        ith_cluster_silhouette_values = sample_silhouette_values[cluster_labels == i]\n",
    "        ith_cluster_silhouette_values.sort()\n",
    "        \n",
    "        # Get y_upper to demarcate silhouette y range size\n",
    "        size_cluster_i = ith_cluster_silhouette_values.shape[0]\n",
    "        y_upper = y_lower + size_cluster_i\n",
    "        \n",
    "        # Filling the silhouette\n",
    "        color = cm.nipy_spectral(float(i) / nclus)\n",
    "        plt.fill_betweenx(np.arange(y_lower, y_upper),\n",
    "                          0, ith_cluster_silhouette_values,\n",
    "                          facecolor=color, edgecolor=color, alpha=0.7)\n",
    "\n",
    "        # Label the silhouette plots with their cluster numbers at the middle\n",
    "        plt.text(-0.05, y_lower + 0.5 * size_cluster_i, str(i))\n",
    "\n",
    "        # Compute the new y_lower for next plot\n",
    "        y_lower = y_upper + 10  # 10 for the 0 samples\n",
    "\n",
    "    plt.title(\"The silhouette plot for the various clusters.\")\n",
    "    plt.xlabel(\"The silhouette coefficient values\")\n",
    "    plt.ylabel(\"Cluster label\")\n",
    "\n",
    "    # The vertical line for average silhouette score of all the values\n",
    "    plt.axvline(x=silhouette_avg, color=\"red\", linestyle=\"--\")\n",
    "    \n",
    "    # The silhouette coefficient can range from -1, 1\n",
    "    xmin, xmax = np.round(sample_silhouette_values.min() -0.1, 2), np.round(sample_silhouette_values.max() + 0.1, 2)\n",
    "    plt.xlim([xmin, xmax])\n",
    "    \n",
    "    # The (nclus+1)*10 is for inserting blank space between silhouette\n",
    "    # plots of individual clusters, to demarcate them clearly.\n",
    "    plt.ylim([0, len(df3_scaled[metric_features]) + (nclus + 1) * 10])\n",
    "\n",
    "    plt.yticks([])  # Clear the yaxis labels / ticks\n",
    "    plt.xticks(np.arange(xmin, xmax, 0.1))"
   ]
  },
  {
   "cell_type": "code",
   "execution_count": null,
   "id": "2a85dfac-1419-4336-aa90-40ddcb204fe4",
   "metadata": {
    "tags": []
   },
   "outputs": [],
   "source": [
    "# The average silhouette plot\n",
    "# The inertia plot\n",
    "plt.figure(figsize=(9,5))\n",
    "plt.plot(range_clusters[1:], ## Plot X-axis; Why range_clusters[1:] ? Remember we skipped k=1 in the cell above\n",
    "         avg_silhouette)     ## Plot Y-axis\n",
    "\n",
    "plt.ylabel(\"Average silhouette\")\n",
    "plt.xlabel(\"Number of clusters\")\n",
    "plt.title(\"Average silhouette plot over clusters\", size=15)\n",
    "plt.show()"
   ]
  },
  {
   "cell_type": "markdown",
   "id": "ae0e479a-610c-46b1-ab29-b8aec3354beb",
   "metadata": {
    "tags": []
   },
   "source": [
    "##### Apart from the 2 cluster option, the 6 clusters is the one with the highest inertia, so we will continue with this number of clusters. It was also one of the best options according to the silhouette plots above."
   ]
  },
  {
   "cell_type": "markdown",
   "id": "65684736-0643-4f0b-adc5-67b7ba08b745",
   "metadata": {
    "tags": []
   },
   "source": [
    "##### Final K-Means clustering solution"
   ]
  },
  {
   "cell_type": "code",
   "execution_count": null,
   "id": "1107c65e-9499-40c2-be60-bd558436a8fd",
   "metadata": {
    "tags": []
   },
   "outputs": [],
   "source": [
    "# final cluster solution\n",
    "number_clusters = 6\n",
    "kmclust = KMeans(n_clusters=number_clusters, init='k-means++', n_init=15, random_state=1)\n",
    "kmeans_labels = kmclust.fit_predict(df3_scaled[metric_features])\n",
    "kmeans_labels"
   ]
  },
  {
   "cell_type": "code",
   "execution_count": null,
   "id": "0a96a7b0-068e-4d20-86e2-67cc08f3e612",
   "metadata": {
    "tags": []
   },
   "outputs": [],
   "source": [
    "# Characterizing the final clusters\n",
    "df3_concat_kmean = pd.concat((df3_scaled, pd.Series(kmeans_labels, name='labels', index=df3_scaled.index)), axis=1)\n",
    "df3_concat_kmean.groupby('labels').mean()"
   ]
  },
  {
   "cell_type": "code",
   "execution_count": null,
   "id": "885092c0-04fb-46cf-8eff-f2bada48fe45",
   "metadata": {
    "tags": []
   },
   "outputs": [],
   "source": [
    "cluster_means = df3_concat_kmean.groupby('labels').mean()[metric_features].T\n",
    "cluster_means.style.format(precision=2).background_gradient(axis=1)"
   ]
  },
  {
   "cell_type": "markdown",
   "id": "9b3cb295-fdfa-42f3-b5d7-cde2bd1f95b7",
   "metadata": {},
   "source": [
    "## 4.2. K-Mode Clustering"
   ]
  },
  {
   "cell_type": "markdown",
   "id": "d5e0e0e0-6bfc-4f34-9da3-927ced5e5fbf",
   "metadata": {},
   "source": [
    "##### For categorical features:"
   ]
  },
  {
   "cell_type": "markdown",
   "id": "703cea04-8178-451a-8aea-9fdd57dbdeb2",
   "metadata": {},
   "source": [
    "##### Test with the 3 possible values for init: \"Huang\", \"Cao\" and \"random\""
   ]
  },
  {
   "cell_type": "code",
   "execution_count": null,
   "id": "85690dc0-9d9e-4e7e-9111-8c885d52e80b",
   "metadata": {
    "tags": []
   },
   "outputs": [],
   "source": [
    "#HUANG\n",
    "\n",
    "# Elbow curve to find optimal K \n",
    "cost = [] \n",
    "K = range(1,5) \n",
    "\n",
    "for k in list(K): \n",
    "    kmode_huang = KModes(n_clusters=k, \n",
    "                   init = \"Huang\",\n",
    "                   n_init = 5, \n",
    "                   verbose=1) \n",
    "    \n",
    "    kmode_huang.fit_predict(df3_scaled[non_metric_features]) \n",
    "    cost.append(kmode_huang.cost_) \n",
    "\n",
    "# Cost plot\n",
    "plt.plot(K, cost, 'x-') \n",
    "plt.xlabel('No. of clusters') \n",
    "plt.ylabel('Cost') \n",
    "plt.title('Elbow Curve') \n",
    "plt.show()"
   ]
  },
  {
   "cell_type": "code",
   "execution_count": null,
   "id": "9774c29e-ce82-43e4-b829-de820688391b",
   "metadata": {
    "tags": []
   },
   "outputs": [],
   "source": [
    "silhouette_huang = silhouette_score(df3_scaled[non_metric_features], kmode_huang.labels_)\n",
    "silhouette_huang "
   ]
  },
  {
   "cell_type": "code",
   "execution_count": null,
   "id": "f320b24c-4060-46d1-b49a-351cbf372e7f",
   "metadata": {
    "tags": []
   },
   "outputs": [],
   "source": [
    "#RANDOM\n",
    "\n",
    "# Elbow curve to find optimal K \n",
    "cost = [] \n",
    "K = range(1,5) \n",
    "\n",
    "for k in list(K): \n",
    "    kmode_random = KModes(n_clusters=k, \n",
    "                   init = \"random\",\n",
    "                   n_init = 5, \n",
    "                   verbose=1) \n",
    "    \n",
    "    kmode_random.fit_predict(df3_scaled[non_metric_features]) \n",
    "    cost.append(kmode_random.cost_) \n",
    "\n",
    "# Cost plot\n",
    "plt.plot(K, cost, 'x-') \n",
    "plt.xlabel('No. of clusters') \n",
    "plt.ylabel('Cost') \n",
    "plt.title('Elbow Curve') \n",
    "plt.show()"
   ]
  },
  {
   "cell_type": "code",
   "execution_count": null,
   "id": "f4bcee1c-2895-4348-a239-a3afdf7b6548",
   "metadata": {
    "tags": []
   },
   "outputs": [],
   "source": [
    "silhouette_random = silhouette_score(df3_scaled[non_metric_features], kmode_random.labels_)\n",
    "silhouette_random "
   ]
  },
  {
   "cell_type": "code",
   "execution_count": null,
   "id": "f99dc625-038b-4b99-b492-5e55e6ffcb41",
   "metadata": {
    "tags": []
   },
   "outputs": [],
   "source": [
    "#CAO \n",
    "\n",
    "# Elbow curve to find optimal K \n",
    "cost = [] \n",
    "K = range(1,5) \n",
    "\n",
    "for k in list(K): \n",
    "    kmode_cao = KModes(n_clusters=k, \n",
    "                   init = \"Cao\",\n",
    "                   n_init = 5, \n",
    "                   verbose=1) \n",
    "    \n",
    "    kmode_cao.fit_predict(df3_scaled[non_metric_features]) \n",
    "    cost.append(kmode_cao.cost_) \n",
    "\n",
    "# Cost plot\n",
    "plt.plot(K, cost, 'x-') \n",
    "plt.xlabel('No. of clusters') \n",
    "plt.ylabel('Cost') \n",
    "plt.title('Elbow Curve') \n",
    "plt.show()"
   ]
  },
  {
   "cell_type": "code",
   "execution_count": null,
   "id": "4f0e1c05-81f9-4c6b-9a33-6c27d62af9bf",
   "metadata": {
    "tags": []
   },
   "outputs": [],
   "source": [
    "silhouette_cao = silhouette_score(df3_scaled[non_metric_features], kmode_cao.labels_)\n",
    "silhouette_cao"
   ]
  },
  {
   "cell_type": "code",
   "execution_count": null,
   "id": "56676f9d-c712-4831-9fbe-aacf57a79bbe",
   "metadata": {},
   "outputs": [],
   "source": [
    "# The one with the highest silhouette score is the one using \"random\". ???? DUVIDA"
   ]
  },
  {
   "cell_type": "code",
   "execution_count": null,
   "id": "bef6c53c-2e41-4063-88ec-b20f46eda895",
   "metadata": {
    "tags": []
   },
   "outputs": [],
   "source": [
    "# Considering the 2 plot solution\n",
    "\n",
    "kmode = KModes(n_clusters=2, init = \"random\", n_init = 5, verbose=1) \n",
    "kmode_labels = kmode.fit_predict(df3_scaled[non_metric_features]) \n",
    "kmode_labels"
   ]
  },
  {
   "cell_type": "code",
   "execution_count": null,
   "id": "2d2a0da3-3623-4be6-9623-36d3970b0e10",
   "metadata": {
    "tags": []
   },
   "outputs": [],
   "source": [
    "# Characterizing the final clusters\n",
    "df3_concat_kmode = pd.concat((df3_scaled, pd.Series(kmode_labels, name='labels', index=df3_scaled.index)), axis=1)\n",
    "df3_concat_kmode.groupby('labels').mean()"
   ]
  },
  {
   "cell_type": "code",
   "execution_count": null,
   "id": "6724133a-b893-4ced-b529-48eb6e7d6b46",
   "metadata": {
    "tags": []
   },
   "outputs": [],
   "source": [
    "cluster_means_kmode = df3_concat.groupby('labels').mean()[non_metric_features].T\n",
    "cluster_means_kmode.style.format(precision=2).background_gradient(axis=1)"
   ]
  },
  {
   "cell_type": "markdown",
   "id": "ad5d5406-a805-4c56-a76f-43c6a3c9a6db",
   "metadata": {},
   "source": [
    "## 4.3. Hierarchical Clustering"
   ]
  },
  {
   "cell_type": "markdown",
   "id": "f58d3f1b-7743-40e0-8f29-7cec504c0e47",
   "metadata": {},
   "source": [
    "##### Combine K-Modes and K-Means, using Hierarchical Clustering"
   ]
  },
  {
   "cell_type": "code",
   "execution_count": null,
   "id": "8a413754-ce17-438b-a783-253b163fe73e",
   "metadata": {
    "tags": []
   },
   "outputs": [],
   "source": [
    "# Combine K-Modes and K-Means labels into a single matrix\n",
    "combined_labels_matrix = np.column_stack((kmode_labels, kmeans_labels))\n",
    "\n",
    "# Apply hierarchical clustering\n",
    "hierarchical_clusters = linkage(combined_labels_matrix, method='ward')\n",
    "\n",
    "# Determine the number of clusters using a distance threshold or another method\n",
    "num_clusters = 15  # Adjust based on your analysis\n",
    "\n",
    "# Assign instances to clusters based on the hierarchical clustering results\n",
    "combined_labels_hierarchical = fcluster(hierarchical_clusters, num_clusters, criterion='maxclust')\n",
    "\n",
    "# Combine the original DataFrame with the combined labels\n",
    "df3_scaled_combined = pd.concat([df3_scaled, pd.Series(combined_labels_hierarchical, name='Combined_Labels')], axis=1)"
   ]
  },
  {
   "cell_type": "code",
   "execution_count": null,
   "id": "7e8437a4-4484-482d-8d43-c7fa2922d951",
   "metadata": {
    "tags": []
   },
   "outputs": [],
   "source": [
    "# See the results\n",
    "cluster_means_combined = df3_scaled_combined.groupby('Combined_Labels').mean()\n",
    "cluster_means_combined"
   ]
  },
  {
   "cell_type": "code",
   "execution_count": null,
   "id": "e8fde1ce-d2cc-493b-867a-4617d11e324f",
   "metadata": {
    "tags": []
   },
   "outputs": [],
   "source": [
    "# Reset the index if needed\n",
    "cluster_means_combined_reset = cluster_means_combined.reset_index()\n",
    "cluster_means_combined_reset"
   ]
  },
  {
   "cell_type": "code",
   "execution_count": null,
   "id": "3adbfb08-fce4-4069-821a-005c7a52170f",
   "metadata": {
    "tags": []
   },
   "outputs": [],
   "source": [
    "# Assuming 'cluster_means_combined' is your DataFrame\n",
    "# Assuming cluster labels are in the index\n",
    "\n",
    "# Drop the cluster label index before clustering\n",
    "features_only = cluster_means_combined_reset.drop('Combined_Labels', axis=1)\n",
    "\n",
    "# Perform hierarchical clustering\n",
    "linkage_matrix = linkage(features_only, method='ward')\n",
    "\n",
    "# Plot the dendrogram\n",
    "plt.figure(figsize=(10, 6))\n",
    "dendrogram(linkage_matrix, labels=cluster_means_combined.index, orientation='top', leaf_rotation=45)\n",
    "plt.title('Hierarchical Clustering Dendrogram')\n",
    "plt.xlabel('Clusters')\n",
    "plt.ylabel('Distance')\n",
    "plt.show()"
   ]
  },
  {
   "cell_type": "code",
   "execution_count": null,
   "id": "1ab363d7-b5f5-4dc1-b673-8c55480ab80b",
   "metadata": {
    "tags": []
   },
   "outputs": [],
   "source": [
    "from sklearn.cluster import AgglomerativeClustering\n",
    "from scipy.spatial.distance import pdist, squareform"
   ]
  },
  {
   "cell_type": "code",
   "execution_count": null,
   "id": "80bd33d1-7494-4500-b946-9ac872b0716a",
   "metadata": {
    "tags": []
   },
   "outputs": [],
   "source": [
    "#ANOTHER WAY\n",
    "\n",
    "#1. Perform hierarchical clustering\n",
    "# Specify linkage method and number of clusters (None for automatic selection)\n",
    "ward_linkage = AgglomerativeClustering(n_clusters=15, linkage='ward')\n",
    "\n",
    "# Fit the hierarchical clustering model to the data\n",
    "ward_labels = ward_linkage.fit_predict(df3_scaled)"
   ]
  },
  {
   "cell_type": "code",
   "execution_count": null,
   "id": "719bb396-ac71-463b-83b0-ca9099cf639f",
   "metadata": {},
   "outputs": [],
   "source": [
    "#2. Determine the number of clusters\n",
    "# Calculate pairwise distances\n",
    "distance_matrix = pdist(df3_scaled)\n",
    "distance_matrix = squareform(distance_matrix)\n",
    "\n",
    "# Generate hierarchical clustering linkage matrix\n",
    "linkage_matrix = ward_linkage.fit(distance_matrix)\n",
    "\n",
    "# Determine the number of clusters using the dendrogram\n",
    "number_of_clusters = fcluster(linkage_matrix, t=0.7 * max(linkage_matrix[:, 2]), criterion='distance')"
   ]
  },
  {
   "cell_type": "code",
   "execution_count": null,
   "id": "b46a5a77-78a2-46c8-b094-ea1e5e9cb98e",
   "metadata": {},
   "outputs": [],
   "source": [
    "#3. Combining K-means and K-modes Clustering\n",
    "hierarchical_clusters = []\n",
    "\n",
    "for i in range(1, number_of_clusters + 1):\n",
    "    cluster_indices = np.where(ward_labels == i)[0]\n",
    "    hierarchical_clusters.append(df3_scaled[cluster_indices])"
   ]
  },
  {
   "cell_type": "code",
   "execution_count": null,
   "id": "a475e872-c22d-44eb-ade2-2c920c89b551",
   "metadata": {},
   "outputs": [],
   "source": [
    "kmeans_clusters = []\n",
    "\n",
    "for cluster in hierarchical_clusters:\n",
    "    # Apply K-means clustering to numerical variables\n",
    "    kmeans = KMeans(n_clusters=3)\n",
    "    kmeans.fit(cluster[:, numerical_indices])\n",
    "    kmeans_labels = kmeans.predict(cluster[:, numerical_indices])\n",
    "\n",
    "    # Apply K-modes clustering to categorical variables\n",
    "    kmodes = KModes(n_clusters=3, init='Huang', verbose=1)\n",
    "    kmodes.fit(cluster[:, categorical_indices], kmeans_labels)\n",
    "\n",
    "    # Combine numerical and categorical cluster labels\n",
    "    combined_labels = np.concatenate((kmeans_labels.reshape(-1, 1), kmodes.labels_.reshape(-1, 1)), axis=1)\n",
    "\n",
    "    # Create the final cluster\n",
    "    final_cluster = []\n",
    "    for i, label in enumerate(combined_labels):\n",
    "        final_cluster.append(cluster[i])\n",
    "\n",
    "    kmeans_clusters.append(final_cluster)"
   ]
  },
  {
   "cell_type": "code",
   "execution_count": null,
   "id": "5302874f-870c-4c36-9670-c10f7af4eb01",
   "metadata": {
    "tags": []
   },
   "outputs": [],
   "source": [
    "#4. Evaluate clustering results\n",
    "silhouette_scores = []\n",
    "\n",
    "for cluster in kmeans_clusters:\n",
    "    silhouette_score_cluster = silhouette_score(cluster)\n",
    "    silhouette_scores.append(silhouette_score_cluster)\n",
    "\n",
    "print(\"Average silhouette score:\", np.mean(silhouette_scores))"
   ]
  }
 ],
 "metadata": {
  "kernelspec": {
   "display_name": "Python 3 (ipykernel)",
   "language": "python",
   "name": "python3"
  },
  "language_info": {
   "codemirror_mode": {
    "name": "ipython",
    "version": 3
   },
   "file_extension": ".py",
   "mimetype": "text/x-python",
   "name": "python",
   "nbconvert_exporter": "python",
   "pygments_lexer": "ipython3",
   "version": "3.11.4"
  }
 },
 "nbformat": 4,
 "nbformat_minor": 5
}
